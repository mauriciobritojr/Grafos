{
 "cells": [
  {
   "cell_type": "markdown",
   "metadata": {},
   "source": [
    "###  UNIFOR - Mestrado em Inteligência Artificial e Ciência de Dados\n",
    "### Disciplina: Análise de Dados em Grafos\n",
    "#### Professor: Raimir\n",
    "#### Equipe: Maurício Brito, João David e Tiago Pontes "
   ]
  },
  {
   "cell_type": "markdown",
   "metadata": {},
   "source": [
    "### Conceitos\n",
    "\n",
    "No âmbito da teoria dos grafos e da análise de redes, centralidade é uma medida de importância de um vértice em um grafo. Existem diferentes tipos de medidas de centralidade de um vértice num grafo que determinam a importância relativa, que permitem, por exemplo, estimar o quanto uma pessoa é influente dentro de uma rede social, o quão é importante uma sala dentro de um edifício e como é bem utilizada uma estrada dentro de uma rede urbana. Vários conceitos de centralidade foram primeiramente desenvolvidos na análise de redes sociais, e muitos dos termos usados para medir a centralidade refletem a sua origem sociológica.\n",
    "Existem quatro medidas de centralidade que são amplamente utilizados na análise de rede: centralidade de grau, centralidade de intermediação, centralidade de proximidade e centralidade de vetor próprio.\n",
    "\n",
    "**Centralidade de Grau**: É definido como o número de links incidentes em um nó. O grau pode ser interpretado como a probabilidade que o vértice tem de receber alguma informação da rede. Os valores de grau de centralidade são normalizados dividindo pelo grau máximo possível em um gráfico simples n-1 onde n é o número de nós em G.\n",
    "\n",
    "**Centralidade de Proximidade**:Em grafos conectados existe uma distância natural métrica entre todos os pares de nós, definido pelo comprimento de seus caminhos mais curtos. O afastamento de um nó s é definido como a soma de suas distâncias para todos os outros nós, e sua proximidade é definida como o inverso do afastamento. Assim, quanto mais central é o nó, menor é a distância do seu total para todos os outros nós. Proximidade pode ser considerada como uma medida de rapidez, para determinar a velocidade que ela necessitará para difundir informações de s a todos os outros nós sequencialmente.\n",
    "\n",
    "**Centralidade de Intermediação**: Centralidade de intermediação quantifica o número de vezes que um nó age como ponte ao longo do caminho mais curto entre dois outros nós.\n",
    "\n",
    "**Centralidade de Autovetor**: É uma medida da influência de um nó numa rede. Ele atribui pontuações relativas a todos os nós da rede, baseada no conceito de que as ligações para os nós de alta pontuação contribuem mais para a pontuação do nó em questão do que ligações iguais a nós baixa pontuação. O sistema de PageRank do Google é uma variante da medida de centralidade de autovetor. Outra medida de centralidade relacionada é a centralidade de Katz.\n",
    "\n",
    "**Centralidade de Katz e Sistema de PageRank**: A centralidade de Katz é uma generalização da centralidade de grau. Como a centralidade de grau mede o número de vizinhos diretos, a centralidade Katz mede o número de todos os nós que podem ser conectados através de um caminho, enquanto a contribuição de um nó distante é penalizado por um fator de atenuação.\n",
    "\n",
    "Um problema potencial com a centralidade de Katz é o seguinte: se um nó com alta centralidade vincula muitos outros, todos os outros recebem alta centralidade. Em muitos casos, entretanto, significa menos se um nó for apenas um entre muitos a serem vinculados. A centralidade adquirida em virtude de receber um link de um nó importante deve ser diluída se o vértice importante for muito magnânimo com endossos.\n",
    "\n",
    "O **PageRank** é um ajuste da centralidade de Katz que leva em consideração essa questão. Existem três fatores distintos que determinam o PageRank de um nó: (i) o número de links que ele recebe, (ii) a propensão do link dos linkers e (iii) a centralidade dos linkers. O primeiro fator não é surpreendente: quanto mais links um nó atrai, mais importante ele é percebido. Razoavelmente, o valor do endosso se deprecia proporcionalmente ao número de links emitidos pelo nó endossante: links vindos de nós parcimoniosos são mais valiosos do que aqueles emanados por perdulários. Finalmente, nem todos os nós são criados iguais: links de vértices importantes são mais valiosos do que links de vértices obscuros. Este método foi cunhado (e patenteado) por Sergey Brin e Larry Page.\n",
    "\n",
    "Fonte: Wikipedia"
   ]
  },
  {
   "cell_type": "markdown",
   "metadata": {},
   "source": [
    "#### Importa bibliotecas necessárias"
   ]
  },
  {
   "cell_type": "code",
   "execution_count": 2,
   "metadata": {},
   "outputs": [],
   "source": [
    "import networkx as nx\n",
    "from networkx.algorithms import bipartite\n",
    "from networkx.drawing.layout import bipartite_layout\n",
    "import matplotlib.pyplot as plt\n",
    "from networkx.classes.function import density\n",
    "from networkx.algorithms.centrality import degree_centrality, closeness_centrality, betweenness_centrality, eigenvector_centrality\n",
    "from networkx.algorithms.link_analysis.pagerank_alg import pagerank\n",
    "from networkx.algorithms import distance_measures\n",
    "import operator"
   ]
  },
  {
   "cell_type": "markdown",
   "metadata": {},
   "source": [
    "#### Função para ler arquivo txt para gerar o grafo"
   ]
  },
  {
   "cell_type": "code",
   "execution_count": 4,
   "metadata": {},
   "outputs": [],
   "source": [
    "def ler_e_gera_grafo(file):\n",
    "    G = nx.read_edgelist(file,create_using=nx.Graph(), nodetype = int)\n",
    "    # Apresenta resumo do grafo\n",
    "    str = nx.info(G).split('\\n')\n",
    "    print('---------------------------------------------')\n",
    "    print('Grafo: ', file)\n",
    "    print(str[2])\n",
    "    print(str[3])\n",
    "    \n",
    "    print()\n",
    "    print(str[4])\n",
    "    graus_G = sorted(G.degree, key=lambda x: x[1], reverse=True)\n",
    "    no_min_grau = graus_G[-1]\n",
    "    no_max_grau = graus_G[0]\n",
    "    print(f'O Nó {no_min_grau[0]} é o de menor grau ({no_min_grau[1]})')\n",
    "    print(f'O Nó {no_max_grau[0]} é o de MAIOR grau ({no_max_grau[1]})')\n",
    "    \n",
    "    print()\n",
    "    print(f'Density: {density(G)}')\n",
    "    return G"
   ]
  },
  {
   "cell_type": "markdown",
   "metadata": {},
   "source": [
    "### Função para calcular a Centralidade de Grau"
   ]
  },
  {
   "cell_type": "code",
   "execution_count": 5,
   "metadata": {},
   "outputs": [],
   "source": [
    "def min_max_centralidade_grau(G):\n",
    "    print()\n",
    "    print('Centralidae de Grau')\n",
    "    centralidade_grau = degree_centrality(G)\n",
    "    no_min = min(centralidade_grau.items(), key=operator.itemgetter(1))[0]\n",
    "    no_max = max(centralidade_grau.items(), key=operator.itemgetter(1))[0]\n",
    "    print(f'O Nó {no_min} é o de mínima centralidade ({centralidade_grau[no_min]})')\n",
    "    print(f'O Nó {no_max} é o de MÁXIMA centralidade ({centralidade_grau[no_max]})')"
   ]
  },
  {
   "cell_type": "markdown",
   "metadata": {},
   "source": [
    "### Função para calcular a Centralidade de Proximidade"
   ]
  },
  {
   "cell_type": "code",
   "execution_count": 6,
   "metadata": {},
   "outputs": [],
   "source": [
    "def min_max_centralidade_prox(G):\n",
    "    print()\n",
    "    print('Centralidae de Proximidade')\n",
    "    centralidade_prox = closeness_centrality(G)\n",
    "    no_min = min(centralidade_prox.items(), key=operator.itemgetter(1))[0]\n",
    "    no_max = max(centralidade_prox.items(), key=operator.itemgetter(1))[0]\n",
    "    print(f'O Nó {no_min} é o de mínima centralidade ({centralidade_prox[no_min]})')\n",
    "    print(f'O Nó {no_max} é o de MÁXIMA centralidade ({centralidade_prox[no_max]})')"
   ]
  },
  {
   "cell_type": "markdown",
   "metadata": {},
   "source": [
    "### Função para calcular a Centralidade de INtermediação"
   ]
  },
  {
   "cell_type": "code",
   "execution_count": 7,
   "metadata": {},
   "outputs": [],
   "source": [
    "def min_max_centralidade_inter(G):\n",
    "    print()\n",
    "    print('Centralidae de Intermediação')\n",
    "    k=int(0.01 * G.number_of_nodes())\n",
    "    k=int(G.number_of_nodes())\n",
    "    centralidade_inter = betweenness_centrality(G, k=k)\n",
    "    no_min = min(centralidade_inter.items(), key=operator.itemgetter(1))[0]\n",
    "    no_max = max(centralidade_inter.items(), key=operator.itemgetter(1))[0]\n",
    "    print(f'O Nó {no_min} é o de mínima centralidade ({centralidade_inter[no_min]})')\n",
    "    print(f'O Nó {no_max} é o de MÁXIMA centralidade ({centralidade_inter[no_max]})')"
   ]
  },
  {
   "cell_type": "markdown",
   "metadata": {},
   "source": [
    "### Função para calcular a Centralidade de Autovetor"
   ]
  },
  {
   "cell_type": "code",
   "execution_count": 8,
   "metadata": {},
   "outputs": [],
   "source": [
    "def min_max_centralidade_auto(G):\n",
    "    print()\n",
    "    print('Centralidae de Autovetor')\n",
    "    k=int(0.01 * G.number_of_nodes())\n",
    "    k=int(G.number_of_nodes())\n",
    "    centralidade_inter = eigenvector_centrality(G)\n",
    "    no_min = min(centralidade_inter.items(), key=operator.itemgetter(1))[0]\n",
    "    no_max = max(centralidade_inter.items(), key=operator.itemgetter(1))[0]\n",
    "    print(f'O Nó {no_min} é o de mínima centralidade ({centralidade_inter[no_min]})')\n",
    "    print(f'O Nó {no_max} é o de MÁXIMA centralidade ({centralidade_inter[no_max]})')"
   ]
  },
  {
   "cell_type": "markdown",
   "metadata": {},
   "source": [
    "### Função para calcular a Centralidade de Page Rank"
   ]
  },
  {
   "cell_type": "code",
   "execution_count": 9,
   "metadata": {},
   "outputs": [],
   "source": [
    "def min_max_centralidade_page(G):\n",
    "    print()\n",
    "    print('Centralidae de Page Rank')\n",
    "    k=int(0.01 * G.number_of_nodes())\n",
    "    k=int(G.number_of_nodes())\n",
    "    centralidade_inter = pagerank(G)\n",
    "    no_min = min(centralidade_inter.items(), key=operator.itemgetter(1))[0]\n",
    "    no_max = max(centralidade_inter.items(), key=operator.itemgetter(1))[0]\n",
    "    print(f'O Nó {no_min} é o de mínima centralidade ({centralidade_inter[no_min]})')\n",
    "    print(f'O Nó {no_max} é o de MÁXIMA centralidade ({centralidade_inter[no_max]})')"
   ]
  },
  {
   "cell_type": "markdown",
   "metadata": {},
   "source": [
    "### Função para calcular Métricas de Distância"
   ]
  },
  {
   "cell_type": "code",
   "execution_count": 23,
   "metadata": {},
   "outputs": [],
   "source": [
    "def metricas_distancia(G):\n",
    "    print()\n",
    "    print('Métricas de Distância')\n",
    "    print(f'Excentricidade: {distance_measures.eccentricity(G)}')\n",
    "    print(f'Raio: {distance_measures.radius(G)}')\n",
    "    print(f'Diâmetro: {distance_measures.diameter(G)}')\n",
    "    print(f'Centro: {distance_measures.center(G)}')\n",
    "    print(f'Periferia: {distance_measures.periphery(G)}')"
   ]
  },
  {
   "cell_type": "markdown",
   "metadata": {},
   "source": [
    "### Dataset NotreDame"
   ]
  },
  {
   "cell_type": "code",
   "execution_count": null,
   "metadata": {},
   "outputs": [],
   "source": [
    "G1 = ler_e_gera_grafo(\"web-NotreDame.txt\")\n",
    "min_max_centralidade_grau(G1)\n",
    "min_max_centralidade_prox(G1)\n",
    "min_max_centralidade_inter(G1)\n",
    "min_max_centralidade_auto(G1)\n",
    "min_max_centralidade_page(G1)\n",
    "metricas_distancia(G1)"
   ]
  },
  {
   "cell_type": "markdown",
   "metadata": {},
   "source": [
    "### Dataset Google"
   ]
  },
  {
   "cell_type": "code",
   "execution_count": null,
   "metadata": {},
   "outputs": [],
   "source": [
    "G2 = ler_e_gera_grafo(\"web-Google.txt\")\n",
    "min_max_centralidade_grau(G2)\n",
    "min_max_centralidade_prox(G2)\n",
    "min_max_centralidade_inter(G2)\n",
    "min_max_centralidade_auto(G2)\n",
    "min_max_centralidade_page(G2)\n",
    "metricas_distancia(G2)"
   ]
  },
  {
   "cell_type": "markdown",
   "metadata": {},
   "source": [
    "### Dataset BerkStan"
   ]
  },
  {
   "cell_type": "code",
   "execution_count": null,
   "metadata": {},
   "outputs": [],
   "source": [
    "G3 = ler_e_gera_grafo(\"web-BerkStan.txt\")\n",
    "min_max_centralidade_grau(G3)\n",
    "min_max_centralidade_prox(G3)\n",
    "min_max_centralidade_inter(G3)\n",
    "min_max_centralidade_auto(G3)\n",
    "min_max_centralidade_page(G3)\n",
    "metricas_distancia(G3)"
   ]
  },
  {
   "cell_type": "markdown",
   "metadata": {},
   "source": [
    "### Dataset Stanford"
   ]
  },
  {
   "cell_type": "code",
   "execution_count": null,
   "metadata": {},
   "outputs": [],
   "source": [
    "G4 = ler_e_gera_grafo(\"web-Stanford.txt\")\n",
    "min_max_centralidade_grau(G4)\n",
    "min_max_centralidade_prox(G4)\n",
    "min_max_centralidade_inter(G4)\n",
    "min_max_centralidade_auto(G4)\n",
    "min_max_centralidade_page(G4)\n",
    "metricas_distancia(G4)"
   ]
  },
  {
   "cell_type": "markdown",
   "metadata": {},
   "source": [
    "### Grafo Karatê Club"
   ]
  },
  {
   "cell_type": "code",
   "execution_count": 24,
   "metadata": {},
   "outputs": [
    {
     "name": "stdout",
     "output_type": "stream",
     "text": [
      "\n",
      "Centralidae de Grau\n",
      "O Nó 11 é o de mínima centralidade (0.030303030303030304)\n",
      "O Nó 33 é o de MÁXIMA centralidade (0.5151515151515151)\n",
      "\n",
      "Centralidae de Proximidade\n",
      "O Nó 16 é o de mínima centralidade (0.28448275862068967)\n",
      "O Nó 0 é o de MÁXIMA centralidade (0.5689655172413793)\n",
      "\n",
      "Centralidae de Intermediação\n",
      "O Nó 7 é o de mínima centralidade (0.0)\n",
      "O Nó 0 é o de MÁXIMA centralidade (0.43763528138528146)\n",
      "\n",
      "Centralidae de Autovetor\n",
      "O Nó 16 é o de mínima centralidade (0.023634794260596875)\n",
      "O Nó 33 é o de MÁXIMA centralidade (0.373371213013235)\n",
      "\n",
      "Centralidae de Page Rank\n",
      "O Nó 11 é o de mínima centralidade (0.009564916863537148)\n",
      "O Nó 33 é o de MÁXIMA centralidade (0.1009179167487121)\n",
      "\n",
      "Métricas de Distância\n",
      "Excentricidade: {0: 3, 1: 3, 2: 3, 3: 3, 4: 4, 5: 4, 6: 4, 7: 4, 8: 3, 9: 4, 10: 4, 11: 4, 12: 4, 13: 3, 14: 5, 15: 5, 16: 5, 17: 4, 18: 5, 19: 3, 20: 5, 21: 4, 22: 5, 23: 5, 24: 4, 25: 4, 26: 5, 27: 4, 28: 4, 29: 5, 30: 4, 31: 3, 32: 4, 33: 4}\n",
      "Raio: 3\n",
      "Diâmetro: 5\n",
      "Centro: [0, 1, 2, 3, 8, 13, 19, 31]\n",
      "Periferia: [14, 15, 16, 18, 20, 22, 23, 26, 29]\n"
     ]
    }
   ],
   "source": [
    "G5 = nx.karate_club_graph()\n",
    "min_max_centralidade_grau(G5)\n",
    "min_max_centralidade_prox(G5)\n",
    "min_max_centralidade_inter(G5)\n",
    "min_max_centralidade_auto(G5)\n",
    "min_max_centralidade_page(G5)\n",
    "metricas_distancia(G5)"
   ]
  },
  {
   "cell_type": "markdown",
   "metadata": {},
   "source": [
    "#### Mostra o grafo G"
   ]
  },
  {
   "cell_type": "code",
   "execution_count": 20,
   "metadata": {},
   "outputs": [
    {
     "data": {
      "image/png": "[encoded data removed]",
      "text/plain": [
       "<Figure size 432x288 with 1 Axes>"
      ]
     },
     "metadata": {},
     "output_type": "display_data"
    }
   ],
   "source": [
    "# fig = plt.figure(figsize=(8,8))\n",
    "nx.draw(G5, pos=nx.spring_layout(G5), with_labels=False, node_color='red', node_size=2, edge_color='orange', width=0.5)\n",
    "# plt.savefig(\"graph.png\", dpi=300, facecolor='w', edgecolor='w',orientation='portrait',\n",
    "#             format=None,transparent=False, bbox_inches=None, pad_inches=0.1)\n",
    "plt.show()"
   ]
  },
  {
   "cell_type": "code",
   "execution_count": null,
   "metadata": {},
   "outputs": [],
   "source": []
  }
 ],
 "metadata": {
  "kernelspec": {
   "display_name": "Python 3",
   "language": "python",
   "name": "python3"
  },
  "language_info": {
   "codemirror_mode": {
    "name": "ipython",
    "version": 3
   },
   "file_extension": ".py",
   "mimetype": "text/x-python",
   "name": "python",
   "nbconvert_exporter": "python",
   "pygments_lexer": "ipython3",
   "version": "3.8.5"
  }
 },
 "nbformat": 4,
 "nbformat_minor": 4
}
